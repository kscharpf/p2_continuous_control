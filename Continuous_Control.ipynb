{
 "cells": [
  {
   "cell_type": "markdown",
   "metadata": {},
   "source": [
    "\n",
    "# Continuous Control\n",
    "\n",
    "---\n",
    "\n",
    "This notebook guides you through the creation of an agent that will learn to pass the second project of the [Deep Reinforcement Learning Nanodegree](https://www.udacity.com/course/deep-reinforcement-learning-nanodegree--nd893) program.\n",
    "\n",
    "## 1. Start the Environment\n",
    "\n",
    "We begin by importing the necessary packages.  If the code cell below returns an error, please revisit the project instructions to double-check that you have installed [Unity ML-Agents](https://github.com/Unity-Technologies/ml-agents/blob/master/docs/Installation.md) and [NumPy](http://www.numpy.org/)."
   ]
  },
  {
   "cell_type": "code",
   "execution_count": 1,
   "metadata": {},
   "outputs": [],
   "source": [
    "from unityagents import UnityEnvironment\n",
    "import numpy as np"
   ]
  },
  {
   "cell_type": "markdown",
   "metadata": {},
   "source": [
    "Next, we will start the environment!  **_Before running the code cell below_**, change the `file_name` parameter to match the location of the Unity environment that you downloaded.\n",
    "\n",
    "- **Mac**: `\"path/to/Reacher.app\"`\n",
    "- **Windows** (x86): `\"path/to/Reacher_Windows_x86/Reacher.exe\"`\n",
    "- **Windows** (x86_64): `\"path/to/Reacher_Windows_x86_64/Reacher.exe\"`\n",
    "- **Linux** (x86): `\"path/to/Reacher_Linux/Reacher.x86\"`\n",
    "- **Linux** (x86_64): `\"path/to/Reacher_Linux/Reacher.x86_64\"`\n",
    "- **Linux** (x86, headless): `\"path/to/Reacher_Linux_NoVis/Reacher.x86\"`\n",
    "- **Linux** (x86_64, headless): `\"path/to/Reacher_Linux_NoVis/Reacher.x86_64\"`\n",
    "\n",
    "For instance, if you are using a Mac, then you downloaded `Reacher.app`.  If this file is in the same folder as the notebook, then the line below should appear as follows:\n",
    "```\n",
    "env = UnityEnvironment(file_name=\"Reacher.app\")\n",
    "```"
   ]
  },
  {
   "cell_type": "code",
   "execution_count": 2,
   "metadata": {},
   "outputs": [
    {
     "name": "stderr",
     "output_type": "stream",
     "text": [
      "INFO:unityagents:\n",
      "'Academy' started successfully!\n",
      "Unity Academy name: Academy\n",
      "        Number of Brains: 1\n",
      "        Number of External Brains : 1\n",
      "        Lesson number : 0\n",
      "        Reset Parameters :\n",
      "\t\tgoal_speed -> 1.0\n",
      "\t\tgoal_size -> 5.0\n",
      "Unity brain name: ReacherBrain\n",
      "        Number of Visual Observations (per agent): 0\n",
      "        Vector Observation space type: continuous\n",
      "        Vector Observation space size (per agent): 33\n",
      "        Number of stacked Vector Observation: 1\n",
      "        Vector Action space type: continuous\n",
      "        Vector Action space size (per agent): 4\n",
      "        Vector Action descriptions: , , , \n"
     ]
    }
   ],
   "source": [
    "env = UnityEnvironment(file_name='./Reacher_Linux_NoVis/Reacher.x86_64')"
   ]
  },
  {
   "cell_type": "markdown",
   "metadata": {},
   "source": [
    "Environments contain **_brains_** which are responsible for deciding the actions of their associated agents. Here we check for the first brain available, and set it as the default brain we will be controlling from Python."
   ]
  },
  {
   "cell_type": "code",
   "execution_count": 3,
   "metadata": {},
   "outputs": [],
   "source": [
    "# get the default brain\n",
    "brain_name = env.brain_names[0]\n",
    "brain = env.brains[brain_name]"
   ]
  },
  {
   "cell_type": "markdown",
   "metadata": {},
   "source": [
    "## 2. Examine the State and Action Spaces\n",
    "\n",
    "In this environment, a double-jointed arm can move to target locations. A reward of `+0.1` is provided for each step that the agent's hand is in the goal location. Thus, the goal of your agent is to maintain its position at the target location for as many time steps as possible.\n",
    "\n",
    "The observation space consists of `33` variables corresponding to position, rotation, velocity, and angular velocities of the arm.  Each action is a vector with four numbers, corresponding to torque applicable to two joints.  Every entry in the action vector must be a number between `-1` and `1`.\n",
    "\n",
    "Run the code cell below to print some information about the environment."
   ]
  },
  {
   "cell_type": "code",
   "execution_count": 4,
   "metadata": {},
   "outputs": [
    {
     "name": "stdout",
     "output_type": "stream",
     "text": [
      "Number of agents: 20\n",
      "Size of each action: 4\n",
      "There are 20 agents. Each observes a state with length: 33\n",
      "The state for the first agent looks like: [ 0.00000000e+00 -4.00000000e+00  0.00000000e+00  1.00000000e+00\n",
      " -0.00000000e+00 -0.00000000e+00 -4.37113883e-08  0.00000000e+00\n",
      "  0.00000000e+00  0.00000000e+00  0.00000000e+00  0.00000000e+00\n",
      "  0.00000000e+00  0.00000000e+00 -1.00000000e+01  0.00000000e+00\n",
      "  1.00000000e+00 -0.00000000e+00 -0.00000000e+00 -4.37113883e-08\n",
      "  0.00000000e+00  0.00000000e+00  0.00000000e+00  0.00000000e+00\n",
      "  0.00000000e+00  0.00000000e+00  5.75471878e+00 -1.00000000e+00\n",
      "  5.55726624e+00  0.00000000e+00  1.00000000e+00  0.00000000e+00\n",
      " -1.68164849e-01]\n"
     ]
    }
   ],
   "source": [
    "# reset the environment\n",
    "env_info = env.reset(train_mode=True)[brain_name]\n",
    "\n",
    "# number of agents\n",
    "num_agents = len(env_info.agents)\n",
    "print('Number of agents:', num_agents)\n",
    "\n",
    "# size of each action\n",
    "action_size = brain.vector_action_space_size\n",
    "print('Size of each action:', action_size)\n",
    "\n",
    "# examine the state space \n",
    "states = env_info.vector_observations\n",
    "state_size = states.shape[1]\n",
    "print('There are {} agents. Each observes a state with length: {}'.format(states.shape[0], state_size))\n",
    "print('The state for the first agent looks like:', states[0])\n",
    "skipRandom = True"
   ]
  },
  {
   "cell_type": "markdown",
   "metadata": {},
   "source": [
    "## 3. Hyperparameter and Architecture Search"
   ]
  },
  {
   "cell_type": "code",
   "execution_count": 5,
   "metadata": {},
   "outputs": [],
   "source": [
    "%load_ext autoreload\n",
    "%autoreload 2"
   ]
  },
  {
   "cell_type": "code",
   "execution_count": 6,
   "metadata": {
    "scrolled": false
   },
   "outputs": [],
   "source": [
    "import numpy as np\n",
    "import matplotlib.pyplot as plt\n"
   ]
  },
  {
   "cell_type": "markdown",
   "metadata": {},
   "source": [
    "### 3.1 Model Training Function"
   ]
  },
  {
   "cell_type": "code",
   "execution_count": 7,
   "metadata": {},
   "outputs": [],
   "source": [
    "from ddpg_agent import *\n",
    "def train_ddpg(batch_size, buffer_size, use_batch_norm, random_fn, num_episodes):\n",
    "    agent = Agent(numAgents = num_agents, \n",
    "                  state_size=state_size, \n",
    "                  action_size=action_size, \n",
    "                  random_seed=47,\n",
    "                  batch_size = batch_size,\n",
    "                  buffer_size = buffer_size,\n",
    "                  use_batch_norm = use_batch_norm,\n",
    "                  random_fn = random_fn)\n",
    "    \n",
    "    \n",
    "    scores = []\n",
    "    PRINT_EVERY=1\n",
    "    for episode in range(num_episodes):\n",
    "        env_info = env.reset(train_mode=True)[brain_name]\n",
    "        states = env_info.vector_observations\n",
    "        agent.reset()\n",
    "\n",
    "        score = np.zeros(num_agents)\n",
    "        while True:\n",
    "            actions = agent.act(states)\n",
    "            env_info = env.step(actions)[brain_name]\n",
    "            next_states = env_info.vector_observations\n",
    "            rewards = env_info.rewards\n",
    "            dones = env_info.local_done\n",
    "            agent.step(states, actions, rewards, next_states, dones)\n",
    "            score += np.array(rewards)\n",
    "            states = next_states\n",
    "            if np.any(dones):\n",
    "                break\n",
    "        if episode % PRINT_EVERY == 0:\n",
    "            print(\"Episode {} Min/Avg/Max {:.4E}/{:.4E}/{:.4E}\".format(\n",
    "                episode, np.min(score), np.mean(score), np.max(score)))\n",
    "        scores.append(np.mean(score))\n",
    "    return scores, agent"
   ]
  },
  {
   "cell_type": "markdown",
   "metadata": {},
   "source": [
    "### 3.2 Hyperparameter and Model Architecture Search\n",
    "Here, we evaluate the performance over 50 episodes of three different batch sizes [64,128,256], two different buffer sizes [1e5,1e6], and two different network architectures (with and without a batch normalization layer)."
   ]
  },
  {
   "cell_type": "code",
   "execution_count": 8,
   "metadata": {
    "scrolled": true
   },
   "outputs": [],
   "source": [
    "import random\n",
    "import time\n",
    "import pickle\n",
    "import torch\n",
    "import numpy as np\n",
    "\n",
    "skipSearch = True\n",
    "if not skipSearch:\n",
    "    for batch_size in [64,128,256]:\n",
    "        for buffer_size in [100000,1000000]:\n",
    "            for use_batch_norm in [False,True]:\n",
    "                for random_fn, fn_name in [(np.random.randn, 'normal')]:\n",
    "                    start_time = time.time()\n",
    "                    scores, agent = train_ddpg(batch_size,\n",
    "                                       buffer_size,\n",
    "                                       use_batch_norm,\n",
    "                                       random_fn,\n",
    "                                       50)\n",
    "                    end_time = time.time()\n",
    "                    fname_suffix = '{}_{}_{}_{}'.format(batch_size, buffer_size, use_batch_norm, fn_name)\n",
    "                    fname = './data/time_and_scores_{}.pkl'.format(fname_suffix)\n",
    "                    pickle.dump((end_time-start_time, scores), open(fname, 'wb'))\n",
    "                    torch.save(agent.actor_local.state_dict(), './data/actor_{}.pt'.format(fname_suffix))\n",
    "                    torch.save(agent.critic_local.state_dict(), './data/critic_{}.pt'.format(fname_suffix))\n",
    "                \n",
    "                \n",
    "                "
   ]
  },
  {
   "cell_type": "markdown",
   "metadata": {},
   "source": [
    "### 3.3 Train the Full Model\n",
    "Train a model over 300 episodes using the mini-batch size of 128, the buffer size of 1e6, and using the batch normalization layer"
   ]
  },
  {
   "cell_type": "code",
   "execution_count": 9,
   "metadata": {},
   "outputs": [],
   "source": [
    "skipModelTraining = True\n",
    "if not skipModelTraining:\n",
    "    start_time = time.time()\n",
    "    batch_size = 128\n",
    "    buffer_size = 1000000\n",
    "    use_batch_norm = True\n",
    "    fn_name = 'normal'\n",
    "    fname_suffix = '{}_{}_{}_{}'.format(batch_size, buffer_size, use_batch_norm, fn_name)\n",
    "\n",
    "    scores, agent = train_ddpg(batch_size,buffer_size,use_batch_norm,np.random.randn, 300)\n",
    "    end_time = time.time()\n",
    "    fname = './data/time_and_scores_{}_official.pkl'.format(fname_suffix)\n",
    "\n",
    "    pickle.dump((end_time-start_time, scores), open(fname, 'wb'))\n",
    "    torch.save(agent.actor_local.state_dict(), './data/actor_{}_official.pt'.format(fname_suffix))\n",
    "    torch.save(agent.critic_local.state_dict(), './data/critic_{}_official.pt'.format(fname_suffix))"
   ]
  },
  {
   "cell_type": "markdown",
   "metadata": {},
   "source": [
    "## 4. Pre-Trained Model Results"
   ]
  },
  {
   "cell_type": "code",
   "execution_count": 10,
   "metadata": {},
   "outputs": [],
   "source": [
    "# Load saved models into memory\n",
    "from ddpg_agent import Agent\n",
    "import torch\n",
    "import numpy as np\n",
    "from unityagents import UnityEnvironment\n",
    "import numpy as np\n",
    "import pickle\n",
    "\n",
    "\n",
    "skipPreTrained = True\n",
    "if not skipPreTrained:\n",
    "    # close an instance if it exists\n",
    "    try: env\n",
    "    except NameError: env = None\n",
    "    if env:\n",
    "        env.close()\n",
    "    env = UnityEnvironment(file_name='./Reacher_Linux/Reacher.x86_64')\n",
    "    # get the default brain\n",
    "    brain_name = env.brain_names[0]\n",
    "    brain = env.brains[brain_name]\n",
    "    env_info = env.reset(train_mode=True)[brain_name]\n",
    "\n",
    "    # number of agents\n",
    "    num_agents = len(env_info.agents)\n",
    "    print('Number of agents:', num_agents)\n",
    "\n",
    "    # size of each action\n",
    "    action_size = brain.vector_action_space_size\n",
    "    print('Size of each action:', action_size)\n",
    "\n",
    "    # examine the state space \n",
    "    states = env_info.vector_observations\n",
    "    state_size = states.shape[1]\n",
    "    numAgents = 20\n",
    "    agent = Agent(numAgents = numAgents, \n",
    "                      state_size=state_size, \n",
    "                      action_size=action_size, \n",
    "                      random_seed=47,\n",
    "                      use_batch_norm = True,\n",
    "                      random_fn = np.random.randn)\n",
    "    agent.actor_local.load_state_dict(torch.load(\"./data/actor_128_1000000_True_normal_official.pt\"))\n",
    "\n",
    "    numEpisodes = 5\n",
    "\n",
    "    mean_scores = []\n",
    "    for i in range(numEpisodes):\n",
    "        env_info = env.reset(train_mode=False)[brain_name] # reset the environment\n",
    "        states = env_info.vector_observations            # get the current state\n",
    "        scores = np.zeros(numAgents)\n",
    "        while True:\n",
    "            actions = agent.act(states)\n",
    "            env_info = env.step(actions)[brain_name]\n",
    "            next_states = env_info.vector_observations\n",
    "            rewards = env_info.rewards\n",
    "            dones = env_info.local_done\n",
    "            scores += env_info.rewards\n",
    "            states = next_states\n",
    "        \n",
    "            if np.any(dones):\n",
    "                break\n",
    "        print(\"{}) Average Score: {}\".format(i, np.mean(scores)))\n",
    "        mean_scores.append(np.mean(scores))\n",
    "    fname = './data/trained_model_scores.pkl'\n",
    "    pickle.dump(mean_scores, open(fname, 'wb'))\n",
    "\n"
   ]
  },
  {
   "cell_type": "code",
   "execution_count": null,
   "metadata": {},
   "outputs": [],
   "source": []
  }
 ],
 "metadata": {
  "kernelspec": {
   "display_name": "drlnd",
   "language": "python",
   "name": "drlnd"
  },
  "language_info": {
   "codemirror_mode": {
    "name": "ipython",
    "version": 3
   },
   "file_extension": ".py",
   "mimetype": "text/x-python",
   "name": "python",
   "nbconvert_exporter": "python",
   "pygments_lexer": "ipython3",
   "version": "3.6.8"
  }
 },
 "nbformat": 4,
 "nbformat_minor": 2
}
